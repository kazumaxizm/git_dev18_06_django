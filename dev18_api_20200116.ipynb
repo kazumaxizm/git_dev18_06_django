{
 "cells": [
  {
   "cell_type": "markdown",
   "metadata": {},
   "source": [
    "# トレンドレコメンド（仮）"
   ]
  },
  {
   "cell_type": "markdown",
   "metadata": {},
   "source": [
    "## 概要"
   ]
  },
  {
   "cell_type": "markdown",
   "metadata": {},
   "source": [
    "- 世間で話題になっているトレンドを抽出し、トレンドに関連した商品を自動抽出する\n",
    "- 使用したAPI （TwitterAPI, NewsAPI, 楽天API）"
   ]
  },
  {
   "cell_type": "markdown",
   "metadata": {},
   "source": [
    "## 処理の流れ"
   ]
  },
  {
   "cell_type": "markdown",
   "metadata": {},
   "source": [
    "1. 以下のいずれかの方法により、トレンドワードを取得する\n",
    "- GoogleトレンドのWebページをクローリング・スクレイピングし、Google検索で急上昇中のワードを取得する（https://trends.google.co.jp/trends/trendingsearches/realtime?geo=JP&category=all）\n",
    "- TwitterAPIを使用し、Twitterでトレンドになっているワードを取得する\n",
    "- NewsAPIを使用し、国内ニュースでトレンドになっているニュースを取得する（これはワードではなく、ニュース記事を取得）\n",
    "<br>\n",
    "※ 各処理で必要となる処理は関数化済みだが、今回はGoogleトレンドのパターンで実験する\n",
    "\n",
    "\n",
    "2. トレンドワードに関連するニュース記事をNewsAPIを使用して取得する\n",
    "- 1で取得したトレンドワードでニュース記事を検索する\n",
    "- ニュース記事をタイトルと概要を取得する（本文取得はAPIではできない）\n",
    "\n",
    "3. トレンドワードに関連するツイートをTwitterAPIを使用して取得する\n",
    "- 取得したトレンドワードでツイートを検索する\n",
    "\n",
    "4. トレンドワード・ニュース記事（複数）・ツイート（10件）を一つのテキストにまとめる\n",
    "5. 楽天APIを使用し、楽天ブックスで販売する書籍のタイトル・著者・概要を取得する\n",
    "- 一度に楽天APIで取得できる商品数には制限がある為、事前にAPIを一日叩き続けて取得できた10万件近い書籍のデータを使用する\n",
    "- 書籍データはpandasのデータとして保持し、pickleファイル化しておく（実際はDBに保存しておきたい）\n",
    "\n",
    "6. 5で取得した書籍情報（タイトル・著者・概要）を一つのテキストにまとめる\n",
    "\n",
    "7. 4と6をMecabで形態素解析し、名詞だけを取得する\n",
    "\n",
    "8. TFIDFのベクトル化して、トレンドに関連するテキスト（トレンドワード・ニュース記事・ツイート）に一番類似する商品をCOS類似度を算出し求める"
   ]
  },
  {
   "cell_type": "markdown",
   "metadata": {},
   "source": [
    "## 以下、処理内容"
   ]
  },
  {
   "cell_type": "code",
   "execution_count": 1,
   "metadata": {},
   "outputs": [],
   "source": [
    "# 必要なライブラリをインストール（AWSで環境をゼロから作り直す時必要）\n",
    "# !pip install newsapi-python\n",
    "# !pip install twitter\n",
    "# !pip install selenium\n",
    "# !pip install feedparser"
   ]
  },
  {
   "cell_type": "markdown",
   "metadata": {},
   "source": [
    "### 前処理"
   ]
  },
  {
   "cell_type": "code",
   "execution_count": 1,
   "metadata": {},
   "outputs": [],
   "source": [
    "# 各APIで必要なライブラリをインポート\n",
    "from newsapi import NewsApiClient\n",
    "from twitter import *"
   ]
  },
  {
   "cell_type": "code",
   "execution_count": 25,
   "metadata": {},
   "outputs": [],
   "source": [
    "# その他、必要なライブラリをインポート\n",
    "import datetime\n",
    "import re\n",
    "from selenium import webdriver\n",
    "import time\n",
    "import feedparser\n",
    "import random\n",
    "import pandas as pd\n",
    "from sklearn.metrics.pairwise import cosine_similarity"
   ]
  },
  {
   "cell_type": "code",
   "execution_count": 3,
   "metadata": {},
   "outputs": [
    {
     "data": {
      "text/plain": [
       "['config.ini']"
      ]
     },
     "execution_count": 3,
     "metadata": {},
     "output_type": "execute_result"
    }
   ],
   "source": [
    "# API_KEYの設定ファイルを読み込み\n",
    "# ※ APIを使用する為に必要となるキーとパスをまとめた設定ファイルを別途作成し、それを呼び出している\n",
    "import configparser\n",
    "config = configparser.ConfigParser()\n",
    "config.read('config.ini')"
   ]
  },
  {
   "cell_type": "code",
   "execution_count": 21,
   "metadata": {},
   "outputs": [],
   "source": [
    "# postgresqlに接続する為のライブラリ\n",
    "import psycopg2\n",
    "from sqlalchemy import create_engine"
   ]
  },
  {
   "cell_type": "markdown",
   "metadata": {},
   "source": [
    "### news_api"
   ]
  },
  {
   "cell_type": "code",
   "execution_count": 4,
   "metadata": {},
   "outputs": [],
   "source": [
    "# news_apiから、検索したキーワードに関連するニュース情報を返す関数\n",
    "def keyword_news_search(\\\n",
    "                         api_key = config['NEWS_API']['KEY'],\\\n",
    "                         search_word = '', \\\n",
    "                         start_date = datetime.datetime.now().strftime('%Y-%m-%d'),\\\n",
    "                         end_date = datetime.datetime.now().strftime('%Y-%m-%d'), \\\n",
    "                         sort_type = 'popularity'\\\n",
    "                        ):\n",
    "    \n",
    "    # news_apiを初期化\n",
    "    news_api_search = NewsApiClient(api_key=config['NEWS_API']['KEY'])\n",
    "    \n",
    "    # search_wordで指定したキーワードに関するニュースを検索する\n",
    "    result_search_news = news_api_search.get_everything(qintitle=search_word, from_param=start_date ,to=end_date, sort_by=sort_type)\n",
    "    \n",
    "    return result_search_news"
   ]
  },
  {
   "cell_type": "code",
   "execution_count": 5,
   "metadata": {},
   "outputs": [],
   "source": [
    "# news_apiから、トップニュース情報を返す関数\n",
    "def headlines_news(\\\n",
    "                         api_key = config['NEWS_API']['KEY'],\\\n",
    "                         target_category = 'entertainment', \\\n",
    "                         target_country = 'jp'\n",
    "                        ):\n",
    "    \n",
    "    # news_apiを初期化\n",
    "    news_api_headlines = NewsApiClient(api_key=config['NEWS_API']['KEY'])\n",
    "    \n",
    "    # 指定したオプションに従ったトップニュースを検索する     \n",
    "    # Possible options: business entertainment general health science sports technology . \n",
    "    # Note: you can't mix this param with the sources param.\n",
    "    result_headlines_news = news_api_headlines.get_top_headlines(category=target_category, country=target_country)\n",
    "    \n",
    "    return result_headlines_news"
   ]
  },
  {
   "cell_type": "markdown",
   "metadata": {},
   "source": [
    "### twitter_api"
   ]
  },
  {
   "cell_type": "code",
   "execution_count": 6,
   "metadata": {},
   "outputs": [],
   "source": [
    "# twitter_apiから、ツイートトレンドの単語を返す関数\n",
    "def twitter_trends_search(\\\n",
    "                          CK = config['TWITTER_API']['CONSUMER_KEY'],\\\n",
    "                          CS = config['TWITTER_API']['CONSUMER_SECRET'],\\\n",
    "                          AT = config['TWITTER_API']['ACCESS_TOKEN'],\\\n",
    "                          AS = config['TWITTER_API']['ACCESS_TOKEN_SECRET'],\\\n",
    "                          area_id = 23424856\\\n",
    "                         ):\n",
    "    \n",
    "     # twitter_apiを初期化\n",
    "    twitter_api_trends = Twitter(auth = OAuth(AT,AS,CK,CS))\n",
    "        \n",
    "     # 指定したエリアのツイッタートレンドを検索する\n",
    "    twitter_trends_results = twitter_api_trends.trends.place(_id = area_id)\n",
    "                    \n",
    "    return twitter_trends_results"
   ]
  },
  {
   "cell_type": "code",
   "execution_count": 7,
   "metadata": {},
   "outputs": [],
   "source": [
    "# twitter_apiから、検索したキーワードに関連するツイートを返す関数\n",
    "def twitter_search(\\\n",
    "                          CK = config['TWITTER_API']['CONSUMER_KEY'],\\\n",
    "                          CS = config['TWITTER_API']['CONSUMER_SECRET'],\\\n",
    "                          AT = config['TWITTER_API']['ACCESS_TOKEN'],\\\n",
    "                          AS = config['TWITTER_API']['ACCESS_TOKEN_SECRET'],\\\n",
    "                          search_keyword = 'twitter',\\\n",
    "                          search_lang = 'ja',\\\n",
    "                          search_type = 'mixed',\\\n",
    "                          search_count = 100\\\n",
    "                         ):\n",
    "    \n",
    "     # twitter_apiを初期化\n",
    "    twitter_api_search = Twitter(auth = OAuth(AT,AS,CK,CS))\n",
    "        \n",
    "     # 指定したエリアのツイッタートレンドを検索する\n",
    "    search_results = twitter_api_search.search.tweets(q=search_keyword, lang=search_lang, result_type=search_type, count=search_count)\n",
    "                    \n",
    "    return search_results"
   ]
  },
  {
   "cell_type": "markdown",
   "metadata": {},
   "source": [
    "### Googleトレンド（クローリング・スクレイピング）"
   ]
  },
  {
   "cell_type": "code",
   "execution_count": 8,
   "metadata": {},
   "outputs": [],
   "source": [
    "def google_trends_search(\\\n",
    "                        base_url = 'https://trends.google.co.jp/trends/trendingsearches/realtime',\\\n",
    "                        search_geo = 'JP',\\\n",
    "                        search_category = 'all',\n",
    "                        ):\n",
    "    \n",
    "    try:\n",
    "\n",
    "        # 検索するURLを作成する\n",
    "        url = '{i}?geo={j}&category={k}'.format(i=base_url, j=search_geo, k=search_category)\n",
    "\n",
    "        # ブラウザを開く\n",
    "        driver = webdriver.Chrome()\n",
    "\n",
    "        # Googleトレンドの検索TOP画面を開く （表示サイズも指定しておく）\n",
    "        driver.get(url)\n",
    "        driver.set_window_size(2500,1000)\n",
    "\n",
    "        # 2〜4秒間、ページが開かれるのを待つ\n",
    "        time.sleep(random.randint(2,4))\n",
    "\n",
    "        # TOP画面より、必要な要素のデータを取得する\n",
    "        trends_keywords = driver.find_elements_by_class_name('title')\n",
    "        summary_text = driver.find_elements_by_class_name('summary-text')\n",
    "        source_text = driver.find_elements_by_class_name('source-and-time')\n",
    "\n",
    "        # 全ての要素が取得できた場合、処理を進める\n",
    "        while bool(len(trends_keywords) == 0 or  len(summary_text) == 0 or len(source_text) == 0):\n",
    "            time.sleep(10)\n",
    "            trends_keywords = driver.find_elements_by_class_name('title')\n",
    "            summary_text = driver.find_elements_by_class_name('summary-text')\n",
    "            source_text = driver.find_elements_by_class_name('source-and-time')\n",
    "        else:\n",
    "            trends_keyword = []\n",
    "            trends_abst = []\n",
    "            inyo_url = []\n",
    "            inyo_site = []\n",
    "            for i in range(len(trends_keywords)):\n",
    "                trends_keyword.append(trends_keywords[i].text)\n",
    "                trends_abst.append(summary_text[i].text)\n",
    "                inyo_url.append(summary_text[i].find_element_by_tag_name(\"a\").get_attribute(\"href\"))\n",
    "                inyo_site.append(source_text[i].text.split()[0])\n",
    "\n",
    "        # 各トレンドごとに詳細情報を取得する為、要素をクリックし必要なHTMLを表示させる（その為のクリックする要素を取得している）\n",
    "        trend_click = driver.find_elements_by_class_name('feed-item')\n",
    "\n",
    "        # 蓄積用のリストを用意しておく\n",
    "        google_trend_news_list = []\n",
    "        google_trend_words_list = []\n",
    "\n",
    "        # トレンドごとに詳細情報を取得する為、要素をクリックし必要なHTMLを表示させる\n",
    "        for trend in trend_click:\n",
    "            trend.click()\n",
    "\n",
    "            # 1秒間、ページが開かれるのを待つ\n",
    "            time.sleep(3)\n",
    "            \n",
    "            # 引用ニュースを取得\n",
    "            google_trend_news_tmp = driver.find_elements_by_class_name('item-title')\n",
    "            google_trend_news = ''\n",
    "            for news in google_trend_news_tmp:\n",
    "                google_trend_news = google_trend_news + news.text\n",
    "\n",
    "            # 関連ワードを取得\n",
    "            google_trend_words_tmp = driver.find_elements_by_class_name('list')\n",
    "            google_trend_words = google_trend_words_tmp[0].text.replace(\" \",\"\")\n",
    "\n",
    "            # リストに追加\n",
    "            google_trend_news_list.append(google_trend_news)\n",
    "            google_trend_words_list.append(google_trend_words) \n",
    "\n",
    "        driver.quit()\n",
    "    \n",
    "    except:\n",
    "        pass\n",
    "#         driver.quit()\n",
    "    \n",
    "    google_trend_data = {'goole_keyword': trends_keyword, 'google_abst': trends_abst, 'google_url': inyo_url, 'google_site': inyo_site, \\\n",
    "                        'google_news':google_trend_news_list, 'google_words':google_trend_words_list}\n",
    "    \n",
    "    return google_trend_data"
   ]
  },
  {
   "cell_type": "code",
   "execution_count": 9,
   "metadata": {},
   "outputs": [],
   "source": [
    "google_trends = google_trends_search()"
   ]
  },
  {
   "cell_type": "markdown",
   "metadata": {},
   "source": [
    "## 必要な処理は用意できたので、ここからレコメンドを作っていく。"
   ]
  },
  {
   "cell_type": "markdown",
   "metadata": {},
   "source": [
    "#### ちょっとしたデータ加工"
   ]
  },
  {
   "cell_type": "code",
   "execution_count": 10,
   "metadata": {},
   "outputs": [],
   "source": [
    "google_trend_word = []\n",
    "for i in google_trends['goole_keyword']:\n",
    "    google_trend_word.append(i.split(' • '))"
   ]
  },
  {
   "cell_type": "code",
   "execution_count": 11,
   "metadata": {},
   "outputs": [],
   "source": [
    "google_trend_news = google_trends['google_news']\n",
    "google_trend_words = google_trends['google_words']"
   ]
  },
  {
   "cell_type": "markdown",
   "metadata": {},
   "source": [
    "#### 【NesAPIを使用】トレンドワードに基づいて、関連ニュースを取得する"
   ]
  },
  {
   "cell_type": "code",
   "execution_count": 12,
   "metadata": {
    "scrolled": true
   },
   "outputs": [],
   "source": [
    "sample_news = []\n",
    "for j in google_trend_word:\n",
    "    sample_news.append(keyword_news_search(search_word = j[0]))\n",
    "    time.sleep(1)"
   ]
  },
  {
   "cell_type": "code",
   "execution_count": 13,
   "metadata": {},
   "outputs": [],
   "source": [
    "news_text = []\n",
    "for k in sample_news:\n",
    "    news_text_tmp = ''\n",
    "    for o in k['articles']:\n",
    "        news_text_tmp += (o['title'] +\",\"+ str(o['description']))\n",
    "    news_text.append(news_text_tmp)"
   ]
  },
  {
   "cell_type": "markdown",
   "metadata": {},
   "source": [
    "#### 【twitterAPIを使用】トレンドワードに基づいて、関連ツイートを取得する"
   ]
  },
  {
   "cell_type": "code",
   "execution_count": 14,
   "metadata": {
    "scrolled": true
   },
   "outputs": [],
   "source": [
    "twtter_text = []\n",
    "for p in google_trend_word:\n",
    "    twtter_text.append(twitter_search(search_keyword=p[0], search_count = 10))\n",
    "    time.sleep(1)"
   ]
  },
  {
   "cell_type": "code",
   "execution_count": 15,
   "metadata": {},
   "outputs": [],
   "source": [
    "twitter_text_list = []\n",
    "for q in twtter_text:\n",
    "    \n",
    "    twitter_text_tmp = ''\n",
    "    for i in range(len(q[\"statuses\"])):\n",
    "        twitter_text_tmp += q[\"statuses\"][i][\"text\"]\n",
    "        \n",
    "    twitter_text_list.append(twitter_text_tmp)"
   ]
  },
  {
   "cell_type": "markdown",
   "metadata": {},
   "source": [
    "#### googleトレンドのページに記載されているテキストは重みをつける（✖️3）"
   ]
  },
  {
   "cell_type": "code",
   "execution_count": null,
   "metadata": {},
   "outputs": [],
   "source": [
    "#　ちょっとデータ加工\n",
    "google_trend_word_text = []\n",
    "for r in google_trend_word:\n",
    "    google_trend_word_text_tmp = ','.join(r)\n",
    "    google_trend_word_text.append(google_trend_word_text_tmp)"
   ]
  },
  {
   "cell_type": "code",
   "execution_count": 20,
   "metadata": {},
   "outputs": [],
   "source": [
    "test_text = []\n",
    "for s in range(len(google_trend_word_text)):\n",
    "    test_text.append((google_trend_word_text[s] + google_trend_news[s] + google_trend_words[s]) * 3 + news_text[s] + twitter_text_list[s])"
   ]
  },
  {
   "cell_type": "markdown",
   "metadata": {},
   "source": [
    "## 楽天APIで取得済みの商品リストを持ってくる"
   ]
  },
  {
   "cell_type": "markdown",
   "metadata": {},
   "source": [
    "#### 楽天APIで書籍情報を取得し続ける処理は別途作成し実行ずみ。.pickleのファイルにしているので、ここで読み込み使用する。"
   ]
  },
  {
   "cell_type": "code",
   "execution_count": 22,
   "metadata": {},
   "outputs": [],
   "source": [
    "# PostgreSQL Server へ接続（必要情報は削除）\n",
    "conn = psycopg2.connect('host= port= dbname= user= password=')"
   ]
  },
  {
   "cell_type": "code",
   "execution_count": 23,
   "metadata": {},
   "outputs": [],
   "source": [
    "# データベースの接続情報（必要情報は削除）\n",
    "connection_config = {\n",
    "    'user': '',\n",
    "    'password': '',\n",
    "    'host': '',\n",
    "    'port': '', \n",
    "    'database': ''\n",
    "}\n",
    "engine = create_engine('postgresql://{user}:{password}@{host}:{port}/{database}'.format(**connection_config))"
   ]
  },
  {
   "cell_type": "code",
   "execution_count": 188,
   "metadata": {},
   "outputs": [],
   "source": [
    "# PostgreSQLに楽天APIから集計したデータを書き込む\n",
    "\n",
    "# import pickle\n",
    "# with open('df_all_duplicated.pickle','rb') as f:\n",
    "#     book_list = pickle.load(f)\n",
    "# book_list_db.to_sql('book', con=engine, if_exists='replace', index=False)"
   ]
  },
  {
   "cell_type": "code",
   "execution_count": null,
   "metadata": {},
   "outputs": [],
   "source": [
    "# PostgreSQLにトレンド情報のデータを書き込む\n",
    "df_trend = pd.DataFrame({'time': pd.to_datetime(datetime.datetime.now(), format='%y%m%d %H:%M'),\\\n",
    "                    'google_trend_words': google_trend_word_text,\\\n",
    "                  'google_trend_news': google_trend_news,\\\n",
    "                  'google_trend_words_related': google_trend_words,\\\n",
    "                  'news': news_text,\\\n",
    "                  'tweet': twitter_text_list})\n",
    "df_trend.to_sql('trend', con=engine, if_exists='append', index=False)"
   ]
  },
  {
   "cell_type": "code",
   "execution_count": 123,
   "metadata": {},
   "outputs": [
    {
     "data": {
      "text/html": [
       "<div>\n",
       "<style scoped>\n",
       "    .dataframe tbody tr th:only-of-type {\n",
       "        vertical-align: middle;\n",
       "    }\n",
       "\n",
       "    .dataframe tbody tr th {\n",
       "        vertical-align: top;\n",
       "    }\n",
       "\n",
       "    .dataframe thead th {\n",
       "        text-align: right;\n",
       "    }\n",
       "</style>\n",
       "<table border=\"1\" class=\"dataframe\">\n",
       "  <thead>\n",
       "    <tr style=\"text-align: right;\">\n",
       "      <th></th>\n",
       "      <th>time</th>\n",
       "      <th>google_trend_words</th>\n",
       "      <th>google_trend_news</th>\n",
       "      <th>google_trend_words_related</th>\n",
       "      <th>news</th>\n",
       "      <th>tweet</th>\n",
       "    </tr>\n",
       "  </thead>\n",
       "  <tbody>\n",
       "    <tr>\n",
       "      <th>0</th>\n",
       "      <td>2021-01-16 01:57:20.546187</td>\n",
       "      <td>新世紀エヴァンゲリオン,綾波 レイ,集結の園へ,残酷な天使のテーゼ</td>\n",
       "      <td>...Singing Cosplayer Hikari、綾波レイコスプレで歌うカバー動画「集...</td>\n",
       "      <td>エヴァンゲリオン\\nエバンゲリオン\\nエヴァンゲリオン映画\\nエヴァ\\nシンエヴァンゲリオン...</td>\n",
       "      <td></td>\n",
       "      <td>1995年に📺TVシリーズ『新世紀エヴァンゲリオン』がスタートし、社会現象となりましたが、そ...</td>\n",
       "    </tr>\n",
       "    <tr>\n",
       "      <th>1</th>\n",
       "      <td>2021-01-16 01:57:20.546187</td>\n",
       "      <td>新世紀エヴァンゲリオン,シン・エヴァンゲリオン劇場版:||,ヱヴァンゲリヲン新劇場版:破</td>\n",
       "      <td>【衝撃】ネットで「エヴァのガチ勢にしかわからないことリスト」が話題 / ...『シン・エヴァ...</td>\n",
       "      <td>エヴァンゲリオン\\n金曜ロードショー\\nエバンゲリオン\\nエヴァンゲリオン映画\\nエヴァ\\n...</td>\n",
       "      <td></td>\n",
       "      <td>1995年に📺TVシリーズ『新世紀エヴァンゲリオン』がスタートし、社会現象となりましたが、そ...</td>\n",
       "    </tr>\n",
       "    <tr>\n",
       "      <th>2</th>\n",
       "      <td>2021-01-16 01:57:20.546187</td>\n",
       "      <td>LiSA,中居正広の金曜日のスマイルたちへ,鬼滅の刃,日本レコード大賞</td>\n",
       "      <td>LiSA、家出同然で上京、極貧生活･･･どん底の日々を支えた母の“教え”とは?...歌手・L...</td>\n",
       "      <td>lisa\\nリサ\\nlisa年齢\\n鈴木達央\\nlisa結婚\\n紅蓮華\\nソニーミュージック...</td>\n",
       "      <td>金スマに超気になる女！ 人気歌手・LiSAが登場！,金スマに超気になる女！ 人気歌手・LiS...</td>\n",
       "      <td>今日もいい日だっ！\\n#金スマ宮田さん本当に重大な役を、ありがとうございました。\\n#金スマ...</td>\n",
       "    </tr>\n",
       "    <tr>\n",
       "      <th>3</th>\n",
       "      <td>2021-01-16 01:57:20.546187</td>\n",
       "      <td>町田市,東京都,飛鳥病院</td>\n",
       "      <td>＜新型コロナ＞東京・町田の「飛鳥病院」で103人が集団感染東京・町田の病院で１０３人集団感染</td>\n",
       "      <td>厚切りジェイソン\\n飛鳥病院\\n戸田中央総合病院\\n町田飛鳥病院\\n町田市飛鳥病院\\n相模原...</td>\n",
       "      <td>小田急電鉄とJR東日本、オンデマンド交通サービス「E-バス」の実証運行を町田市内にて実施,小...</td>\n",
       "      <td>東京、新規感染２００１人　町田市の病院で１０３人 https://t.co/RF1kEY04...</td>\n",
       "    </tr>\n",
       "    <tr>\n",
       "      <th>4</th>\n",
       "      <td>2021-01-16 01:57:20.546187</td>\n",
       "      <td>シン・エヴァンゲリオン劇場版:||,林原めぐみ,綾波 レイ</td>\n",
       "      <td>林原めぐみ、再延期シン・エヴァ「私も早く見たい」林原めぐみ、公開再延期のシン・エヴァ「ホント...</td>\n",
       "      <td>エヴァンゲリオン\\n地震速報\\nエバンゲリオン\\nエヴァ\\nシンエヴァンゲリオン\\n緒方恵美...</td>\n",
       "      <td>「シン・エヴァンゲリオン劇場版」公開記念のSSD/HDDコラボモデルがバッファローから。数量...</td>\n",
       "      <td>この度の緊急事態宣言の発出を受け慎重に検討を重ねた結果、感染拡大の収束が最優先であると判断し...</td>\n",
       "    </tr>\n",
       "  </tbody>\n",
       "</table>\n",
       "</div>"
      ],
      "text/plain": [
       "                        time                            google_trend_words  \\\n",
       "0 2021-01-16 01:57:20.546187             新世紀エヴァンゲリオン,綾波 レイ,集結の園へ,残酷な天使のテーゼ   \n",
       "1 2021-01-16 01:57:20.546187  新世紀エヴァンゲリオン,シン・エヴァンゲリオン劇場版:||,ヱヴァンゲリヲン新劇場版:破   \n",
       "2 2021-01-16 01:57:20.546187           LiSA,中居正広の金曜日のスマイルたちへ,鬼滅の刃,日本レコード大賞   \n",
       "3 2021-01-16 01:57:20.546187                                  町田市,東京都,飛鳥病院   \n",
       "4 2021-01-16 01:57:20.546187                 シン・エヴァンゲリオン劇場版:||,林原めぐみ,綾波 レイ   \n",
       "\n",
       "                                   google_trend_news  \\\n",
       "0  ...Singing Cosplayer Hikari、綾波レイコスプレで歌うカバー動画「集...   \n",
       "1  【衝撃】ネットで「エヴァのガチ勢にしかわからないことリスト」が話題 / ...『シン・エヴァ...   \n",
       "2  LiSA、家出同然で上京、極貧生活･･･どん底の日々を支えた母の“教え”とは?...歌手・L...   \n",
       "3     ＜新型コロナ＞東京・町田の「飛鳥病院」で103人が集団感染東京・町田の病院で１０３人集団感染   \n",
       "4  林原めぐみ、再延期シン・エヴァ「私も早く見たい」林原めぐみ、公開再延期のシン・エヴァ「ホント...   \n",
       "\n",
       "                          google_trend_words_related  \\\n",
       "0  エヴァンゲリオン\\nエバンゲリオン\\nエヴァンゲリオン映画\\nエヴァ\\nシンエヴァンゲリオン...   \n",
       "1  エヴァンゲリオン\\n金曜ロードショー\\nエバンゲリオン\\nエヴァンゲリオン映画\\nエヴァ\\n...   \n",
       "2  lisa\\nリサ\\nlisa年齢\\n鈴木達央\\nlisa結婚\\n紅蓮華\\nソニーミュージック...   \n",
       "3  厚切りジェイソン\\n飛鳥病院\\n戸田中央総合病院\\n町田飛鳥病院\\n町田市飛鳥病院\\n相模原...   \n",
       "4  エヴァンゲリオン\\n地震速報\\nエバンゲリオン\\nエヴァ\\nシンエヴァンゲリオン\\n緒方恵美...   \n",
       "\n",
       "                                                news  \\\n",
       "0                                                      \n",
       "1                                                      \n",
       "2  金スマに超気になる女！ 人気歌手・LiSAが登場！,金スマに超気になる女！ 人気歌手・LiS...   \n",
       "3  小田急電鉄とJR東日本、オンデマンド交通サービス「E-バス」の実証運行を町田市内にて実施,小...   \n",
       "4  「シン・エヴァンゲリオン劇場版」公開記念のSSD/HDDコラボモデルがバッファローから。数量...   \n",
       "\n",
       "                                               tweet  \n",
       "0  1995年に📺TVシリーズ『新世紀エヴァンゲリオン』がスタートし、社会現象となりましたが、そ...  \n",
       "1  1995年に📺TVシリーズ『新世紀エヴァンゲリオン』がスタートし、社会現象となりましたが、そ...  \n",
       "2  今日もいい日だっ！\\n#金スマ宮田さん本当に重大な役を、ありがとうございました。\\n#金スマ...  \n",
       "3  東京、新規感染２００１人　町田市の病院で１０３人 https://t.co/RF1kEY04...  \n",
       "4  この度の緊急事態宣言の発出を受け慎重に検討を重ねた結果、感染拡大の収束が最優先であると判断し...  "
      ]
     },
     "execution_count": 123,
     "metadata": {},
     "output_type": "execute_result"
    }
   ],
   "source": [
    "# トレンド情報を見てみる\n",
    "df_trend.head()"
   ]
  },
  {
   "cell_type": "code",
   "execution_count": 24,
   "metadata": {},
   "outputs": [],
   "source": [
    "# PostgreSQLに接続する\n",
    "connection = psycopg2.connect(**connection_config)"
   ]
  },
  {
   "cell_type": "code",
   "execution_count": 28,
   "metadata": {},
   "outputs": [],
   "source": [
    "# テーブルの全レコードを格納する\n",
    "book_list = pd.read_sql(sql=\"SELECT * FROM book;\", con=conn)"
   ]
  },
  {
   "cell_type": "code",
   "execution_count": 35,
   "metadata": {},
   "outputs": [
    {
     "data": {
      "text/plain": [
       "Index(['limitedFlag', 'authorKana', 'author', 'subTitle', 'seriesNameKana',\n",
       "       'title', 'subTitleKana', 'itemCaption', 'publisherName', 'listPrice',\n",
       "       'isbn', 'largeImageUrl', 'mediumImageUrl', 'titleKana', 'availability',\n",
       "       'postageFlag', 'salesDate', 'contents', 'smallImageUrl',\n",
       "       'discountPrice', 'itemPrice', 'size', 'booksGenreId', 'affiliateUrl',\n",
       "       'seriesName', 'reviewCount', 'reviewAverage', 'discountRate',\n",
       "       'chirayomiUrl', 'itemUrl'],\n",
       "      dtype='object')"
      ]
     },
     "execution_count": 35,
     "metadata": {},
     "output_type": "execute_result"
    }
   ],
   "source": [
    "# データのカラム名\n",
    "book_list.columns"
   ]
  },
  {
   "cell_type": "code",
   "execution_count": 39,
   "metadata": {},
   "outputs": [
    {
     "data": {
      "text/plain": [
       "522155"
      ]
     },
     "execution_count": 39,
     "metadata": {},
     "output_type": "execute_result"
    }
   ],
   "source": [
    "# 本の冊数\n",
    "len(book_list)"
   ]
  },
  {
   "cell_type": "code",
   "execution_count": 38,
   "metadata": {
    "scrolled": true
   },
   "outputs": [
    {
     "data": {
      "text/html": [
       "<div>\n",
       "<style scoped>\n",
       "    .dataframe tbody tr th:only-of-type {\n",
       "        vertical-align: middle;\n",
       "    }\n",
       "\n",
       "    .dataframe tbody tr th {\n",
       "        vertical-align: top;\n",
       "    }\n",
       "\n",
       "    .dataframe thead th {\n",
       "        text-align: right;\n",
       "    }\n",
       "</style>\n",
       "<table border=\"1\" class=\"dataframe\">\n",
       "  <thead>\n",
       "    <tr style=\"text-align: right;\">\n",
       "      <th></th>\n",
       "      <th>limitedFlag</th>\n",
       "      <th>authorKana</th>\n",
       "      <th>author</th>\n",
       "      <th>subTitle</th>\n",
       "      <th>seriesNameKana</th>\n",
       "      <th>title</th>\n",
       "      <th>subTitleKana</th>\n",
       "      <th>itemCaption</th>\n",
       "      <th>publisherName</th>\n",
       "      <th>listPrice</th>\n",
       "      <th>...</th>\n",
       "      <th>itemPrice</th>\n",
       "      <th>size</th>\n",
       "      <th>booksGenreId</th>\n",
       "      <th>affiliateUrl</th>\n",
       "      <th>seriesName</th>\n",
       "      <th>reviewCount</th>\n",
       "      <th>reviewAverage</th>\n",
       "      <th>discountRate</th>\n",
       "      <th>chirayomiUrl</th>\n",
       "      <th>itemUrl</th>\n",
       "    </tr>\n",
       "  </thead>\n",
       "  <tbody>\n",
       "    <tr>\n",
       "      <th>0</th>\n",
       "      <td>0</td>\n",
       "      <td>ミズシマ,シンジ</td>\n",
       "      <td>水島新司</td>\n",
       "      <td></td>\n",
       "      <td>ショウネン チャンピオン コミックス</td>\n",
       "      <td>ドカベン スーパースターズ編（45）</td>\n",
       "      <td></td>\n",
       "      <td></td>\n",
       "      <td>秋田書店</td>\n",
       "      <td>0</td>\n",
       "      <td>...</td>\n",
       "      <td>460</td>\n",
       "      <td>コミック</td>\n",
       "      <td>001001001001</td>\n",
       "      <td></td>\n",
       "      <td>少年チャンピオン・コミックス</td>\n",
       "      <td>18</td>\n",
       "      <td>3.94</td>\n",
       "      <td>0</td>\n",
       "      <td></td>\n",
       "      <td>https://books.rakuten.co.jp/rb/11644701/</td>\n",
       "    </tr>\n",
       "    <tr>\n",
       "      <th>1</th>\n",
       "      <td>0</td>\n",
       "      <td>ツカワキ,ナガヒサ/ナンジョウ,ヨシミ</td>\n",
       "      <td>塚脇永久/ナンジョウヨシミ</td>\n",
       "      <td></td>\n",
       "      <td>ショウネン チャンピオン コミックス エクストラ</td>\n",
       "      <td>潮騒の凡（2）</td>\n",
       "      <td></td>\n",
       "      <td></td>\n",
       "      <td>秋田書店</td>\n",
       "      <td>0</td>\n",
       "      <td>...</td>\n",
       "      <td>693</td>\n",
       "      <td>コミック</td>\n",
       "      <td>001001001001</td>\n",
       "      <td></td>\n",
       "      <td>少年チャンピオンコミックス　エクストラ</td>\n",
       "      <td>0</td>\n",
       "      <td>0.0</td>\n",
       "      <td>0</td>\n",
       "      <td></td>\n",
       "      <td>https://books.rakuten.co.jp/rb/15940896/</td>\n",
       "    </tr>\n",
       "    <tr>\n",
       "      <th>2</th>\n",
       "      <td>0</td>\n",
       "      <td>ミズシマ,シンジ</td>\n",
       "      <td>水島新司</td>\n",
       "      <td></td>\n",
       "      <td>ショウネン チャンピオン コミックス</td>\n",
       "      <td>ドカベン　プロ野球編（46）</td>\n",
       "      <td></td>\n",
       "      <td></td>\n",
       "      <td>秋田書店</td>\n",
       "      <td>0</td>\n",
       "      <td>...</td>\n",
       "      <td>429</td>\n",
       "      <td>コミック</td>\n",
       "      <td>001001001001</td>\n",
       "      <td></td>\n",
       "      <td>少年チャンピオンコミックス</td>\n",
       "      <td>0</td>\n",
       "      <td>0.0</td>\n",
       "      <td>0</td>\n",
       "      <td></td>\n",
       "      <td>https://books.rakuten.co.jp/rb/1528580/</td>\n",
       "    </tr>\n",
       "    <tr>\n",
       "      <th>3</th>\n",
       "      <td>0</td>\n",
       "      <td>ハマオカ,ケンジ</td>\n",
       "      <td>浜岡賢次</td>\n",
       "      <td></td>\n",
       "      <td>シヨウネンチヤンピオンコミツクス</td>\n",
       "      <td>元祖！浦安鉄筋家族（6）</td>\n",
       "      <td></td>\n",
       "      <td></td>\n",
       "      <td>秋田書店</td>\n",
       "      <td>0</td>\n",
       "      <td>...</td>\n",
       "      <td>460</td>\n",
       "      <td>コミック</td>\n",
       "      <td>001001001001</td>\n",
       "      <td></td>\n",
       "      <td>少年チャンピオンコミックス</td>\n",
       "      <td>2</td>\n",
       "      <td>4.0</td>\n",
       "      <td>0</td>\n",
       "      <td></td>\n",
       "      <td>https://books.rakuten.co.jp/rb/1668655/</td>\n",
       "    </tr>\n",
       "    <tr>\n",
       "      <th>4</th>\n",
       "      <td>0</td>\n",
       "      <td>ミズシマ,シンジ</td>\n",
       "      <td>水島新司</td>\n",
       "      <td></td>\n",
       "      <td>ショウネン チャンピオン コミックス</td>\n",
       "      <td>ドカベン　プロ野球編（52）</td>\n",
       "      <td></td>\n",
       "      <td></td>\n",
       "      <td>秋田書店</td>\n",
       "      <td>0</td>\n",
       "      <td>...</td>\n",
       "      <td>429</td>\n",
       "      <td>コミック</td>\n",
       "      <td>001001001001</td>\n",
       "      <td></td>\n",
       "      <td>少年チャンピオンコミックス</td>\n",
       "      <td>5</td>\n",
       "      <td>4.4</td>\n",
       "      <td>0</td>\n",
       "      <td></td>\n",
       "      <td>https://books.rakuten.co.jp/rb/1653839/</td>\n",
       "    </tr>\n",
       "  </tbody>\n",
       "</table>\n",
       "<p>5 rows × 30 columns</p>\n",
       "</div>"
      ],
      "text/plain": [
       "   limitedFlag           authorKana         author subTitle  \\\n",
       "0            0             ミズシマ,シンジ           水島新司            \n",
       "1            0  ツカワキ,ナガヒサ/ナンジョウ,ヨシミ  塚脇永久/ナンジョウヨシミ            \n",
       "2            0             ミズシマ,シンジ           水島新司            \n",
       "3            0             ハマオカ,ケンジ           浜岡賢次            \n",
       "4            0             ミズシマ,シンジ           水島新司            \n",
       "\n",
       "             seriesNameKana               title subTitleKana itemCaption  \\\n",
       "0        ショウネン チャンピオン コミックス  ドカベン スーパースターズ編（45）                            \n",
       "1  ショウネン チャンピオン コミックス エクストラ             潮騒の凡（2）                            \n",
       "2        ショウネン チャンピオン コミックス      ドカベン　プロ野球編（46）                            \n",
       "3          シヨウネンチヤンピオンコミツクス        元祖！浦安鉄筋家族（6）                            \n",
       "4        ショウネン チャンピオン コミックス      ドカベン　プロ野球編（52）                            \n",
       "\n",
       "  publisherName  listPrice  ... itemPrice  size  booksGenreId affiliateUrl  \\\n",
       "0          秋田書店          0  ...       460  コミック  001001001001                \n",
       "1          秋田書店          0  ...       693  コミック  001001001001                \n",
       "2          秋田書店          0  ...       429  コミック  001001001001                \n",
       "3          秋田書店          0  ...       460  コミック  001001001001                \n",
       "4          秋田書店          0  ...       429  コミック  001001001001                \n",
       "\n",
       "            seriesName  reviewCount reviewAverage discountRate chirayomiUrl  \\\n",
       "0       少年チャンピオン・コミックス           18          3.94            0                \n",
       "1  少年チャンピオンコミックス　エクストラ            0           0.0            0                \n",
       "2        少年チャンピオンコミックス            0           0.0            0                \n",
       "3        少年チャンピオンコミックス            2           4.0            0                \n",
       "4        少年チャンピオンコミックス            5           4.4            0                \n",
       "\n",
       "                                    itemUrl  \n",
       "0  https://books.rakuten.co.jp/rb/11644701/  \n",
       "1  https://books.rakuten.co.jp/rb/15940896/  \n",
       "2   https://books.rakuten.co.jp/rb/1528580/  \n",
       "3   https://books.rakuten.co.jp/rb/1668655/  \n",
       "4   https://books.rakuten.co.jp/rb/1653839/  \n",
       "\n",
       "[5 rows x 30 columns]"
      ]
     },
     "execution_count": 38,
     "metadata": {},
     "output_type": "execute_result"
    }
   ],
   "source": [
    "# 先頭5行を確認\n",
    "book_list.head()"
   ]
  },
  {
   "cell_type": "code",
   "execution_count": 117,
   "metadata": {},
   "outputs": [],
   "source": []
  },
  {
   "cell_type": "code",
   "execution_count": 120,
   "metadata": {},
   "outputs": [],
   "source": [
    "test_books = (book_list['title']+\",\"+book_list['author']+\",\")*5+\",\"+book_list['subTitle']+\",\"+book_list['itemCaption']"
   ]
  },
  {
   "cell_type": "code",
   "execution_count": 30,
   "metadata": {},
   "outputs": [],
   "source": [
    "df1 = pd.DataFrame()\n",
    "df1['test'] = test_books"
   ]
  },
  {
   "cell_type": "code",
   "execution_count": 31,
   "metadata": {},
   "outputs": [],
   "source": [
    "df2 = pd.DataFrame(test_text, columns=['test'])"
   ]
  },
  {
   "cell_type": "code",
   "execution_count": 42,
   "metadata": {},
   "outputs": [],
   "source": [
    "df3 = df1"
   ]
  },
  {
   "cell_type": "markdown",
   "metadata": {},
   "source": [
    "#### 自然言語処理で、テキストをベクトルに変換していく"
   ]
  },
  {
   "cell_type": "code",
   "execution_count": 44,
   "metadata": {},
   "outputs": [],
   "source": [
    "from sklearn import preprocessing"
   ]
  },
  {
   "cell_type": "code",
   "execution_count": 45,
   "metadata": {},
   "outputs": [],
   "source": [
    "import numpy as np\n",
    "from sklearn.feature_extraction.text import TfidfVectorizer\n",
    "from sklearn.feature_extraction.text import CountVectorizer"
   ]
  },
  {
   "cell_type": "code",
   "execution_count": 46,
   "metadata": {
    "scrolled": true
   },
   "outputs": [],
   "source": [
    "import MeCab\n",
    "import re"
   ]
  },
  {
   "cell_type": "code",
   "execution_count": 54,
   "metadata": {},
   "outputs": [],
   "source": [
    "# MeCabの辞書にnelogdを指定する\n",
    "m = MeCab.Tagger(r\"-r C:\\Users\\kazum\\Desktop\\GS\\trend_recommend\\database_test\\api\\mecabrc-u\")"
   ]
  },
  {
   "cell_type": "code",
   "execution_count": 55,
   "metadata": {},
   "outputs": [],
   "source": [
    "# あまり関係のないと思われる数字を全て0に置き換える関数\n",
    "def replace_number_to_zero(text):\n",
    "    changed_text = re.sub(r'[0-9]+', \"0\", text) #半角\n",
    "    changed_text = re.sub(r'[０-９]+', \"0\", changed_text) #全角\n",
    "    return changed_text\n",
    "\n",
    "# 数字を0に置換\n",
    "df3['review_number_to_zero'] = df3['test'].map(replace_number_to_zero)"
   ]
  },
  {
   "cell_type": "code",
   "execution_count": 56,
   "metadata": {
    "scrolled": true
   },
   "outputs": [],
   "source": [
    "# 分かち書きした結果を返す関数\n",
    "def leaving_space_between_words_column(text):\n",
    "    \n",
    "    nouns = []\n",
    "        \n",
    "    for line in m.parse(text).splitlines():\n",
    "        if len(line.split()) > 0:\n",
    "            if \"名詞\" in line.split()[-1]:\n",
    "                nouns.append(line)\n",
    "                \n",
    "    meishi_list = []\n",
    "    for str in nouns:\n",
    "        try:\n",
    "#             meishi_list.append(str.split()[2])\n",
    "            meishi_list.append(str.split(\",\")[6])\n",
    "        except:\n",
    "            meishi_list.append(\"\")\n",
    "    \n",
    "#     return ','.join(meishi_list)\n",
    "    return ' '.join(meishi_list)\n",
    "\n",
    "# 分かち書きしたカラムをdfに追加する\n",
    "df3['lsbw'] = df3['review_number_to_zero'].map(leaving_space_between_words_column)"
   ]
  },
  {
   "cell_type": "code",
   "execution_count": 57,
   "metadata": {},
   "outputs": [],
   "source": [
    "# 50万冊の書籍情報をベクトル化\n",
    "vectorizer = TfidfVectorizer()\n",
    "X = vectorizer.fit_transform(df3['lsbw'])"
   ]
  },
  {
   "cell_type": "code",
   "execution_count": 84,
   "metadata": {},
   "outputs": [],
   "source": [
    "# トレンドのテキスト情報もベクトル化\n",
    "test_item = vectorizer.transform(df2[\"test\"])"
   ]
  },
  {
   "cell_type": "code",
   "execution_count": 126,
   "metadata": {
    "scrolled": true
   },
   "outputs": [
    {
     "name": "stdout",
     "output_type": "stream",
     "text": [
      "-----\n",
      "0.25759045054754554\n",
      "test                     【輸入楽譜】キングズ・シンガース - アンサンブル・シンギング・コレクション/無伴奏混声四部...\n",
      "review_number_to_zero    【輸入楽譜】キングズ・シンガース - アンサンブル・シンギング・コレクション/無伴奏混声四部...\n",
      "lsbw                     輸入 楽譜 * * アンサンブル Singing! コレクション * 無伴奏 混声 四 部 ...\n",
      "Name: 450576, dtype: object\n",
      "-----\n",
      "0.24877509365837974\n",
      "test                     新世紀エヴァンゲリオン エヴァ&エヴァ2アンソロジー,少年エース編集部,新世紀エヴァンゲリオ...\n",
      "review_number_to_zero    新世紀エヴァンゲリオン エヴァ&エヴァ0アンソロジー,少年エース編集部,新世紀エヴァンゲリオ...\n",
      "lsbw                     新世紀エヴァンゲリオン エヴァ * エヴァ * アンソロジー * 少年エース編集部 * 新世...\n",
      "Name: 42906, dtype: object\n",
      "-----\n",
      "0.24133732215592923\n",
      "test                     残酷な天使のテーゼ,,残酷な天使のテーゼ,,残酷な天使のテーゼ,,残酷な天使のテーゼ,,残酷...\n",
      "review_number_to_zero    残酷な天使のテーゼ,,残酷な天使のテーゼ,,残酷な天使のテーゼ,,残酷な天使のテーゼ,,残酷...\n",
      "lsbw                     残酷な天使のテーゼ * 残酷な天使のテーゼ * 残酷な天使のテーゼ * 残酷な天使のテーゼ ...\n",
      "Name: 370938, dtype: object\n",
      "-----\n",
      "-----\n",
      "-----\n",
      "-----\n",
      "-----\n",
      "0.4291976371733539\n",
      "test                     新世紀エヴァンゲリオン エヴァ&エヴァ2アンソロジー,少年エース編集部,新世紀エヴァンゲリオ...\n",
      "review_number_to_zero    新世紀エヴァンゲリオン エヴァ&エヴァ0アンソロジー,少年エース編集部,新世紀エヴァンゲリオ...\n",
      "lsbw                     新世紀エヴァンゲリオン エヴァ * エヴァ * アンソロジー * 少年エース編集部 * 新世...\n",
      "Name: 42906, dtype: object\n",
      "-----\n",
      "0.28885119377936685\n",
      "test                     「シン・エヴァンゲリオン劇場版：｜｜」補完研究,エヴァ分析特捜部,「シン・エヴァンゲリオン劇...\n",
      "review_number_to_zero    「シン・エヴァンゲリオン劇場版：｜｜」補完研究,エヴァ分析特捜部,「シン・エヴァンゲリオン劇...\n",
      "lsbw                     シン EVANGELION 劇場版 補完 研究 * エヴァ 分析 特捜部 * シン EVAN...\n",
      "Name: 372111, dtype: object\n",
      "-----\n",
      "0.2485766737102103\n",
      "test                     あの日に消えたエヴァ,レミギウシュ・ムルス/佐々木申子,あの日に消えたエヴァ,レミギウシュ・...\n",
      "review_number_to_zero    あの日に消えたエヴァ,レミギウシュ・ムルス/佐々木申子,あの日に消えたエヴァ,レミギウシュ・...\n",
      "lsbw                     あの日 エヴァ * * * 佐々木 申 子 * あの日 エヴァ * * * 佐々木 申 子 ...\n",
      "Name: 136119, dtype: object\n",
      "-----\n",
      "-----\n",
      "-----\n",
      "-----\n",
      "-----\n",
      "0.5144020579241331\n",
      "test                     LBS1619　Rising　Hope／LiSA,,LBS1619　Rising　Hope／...\n",
      "review_number_to_zero    LBS0　Rising　Hope／LiSA,,LBS0　Rising　Hope／LiSA,,...\n",
      "lsbw                     * * * * LiSA * * * * * LiSA * * * * * LiSA * *...\n",
      "Name: 446232, dtype: object\n",
      "-----\n",
      "0.4862537575103761\n",
      "test                     narrative／SawanoHiroyuki［nZk〕：LiSA,,narrative／...\n",
      "review_number_to_zero    narrative／SawanoHiroyuki［nZk〕：LiSA,,narrative／...\n",
      "lsbw                     * * * LiSA * * * * LiSA * * * * LiSA * * * * L...\n",
      "Name: 447482, dtype: object\n",
      "-----\n",
      "0.4435903347271381\n",
      "test                     バンドスコア LiSA 『LiSA BEST -Day-』,,バンドスコア LiSA 『Li...\n",
      "review_number_to_zero    バンドスコア LiSA 『LiSA BEST -Day-』,,バンドスコア LiSA 『Li...\n",
      "lsbw                     バンド スコア LiSA LiSA BEST * * * バンド スコア LiSA LiSA...\n",
      "Name: 361752, dtype: object\n",
      "-----\n",
      "-----\n",
      "-----\n",
      "-----\n",
      "-----\n",
      "0.38715327143804007\n",
      "test                                 町田市6版,,町田市6版,,町田市6版,,町田市6版,,町田市6版,,,,\n",
      "review_number_to_zero                町田市0版,,町田市0版,,町田市0版,,町田市0版,,町田市0版,,,,\n",
      "lsbw                     町田市 * 版 * 町田市 * 版 * 町田市 * 版 * 町田市 * 版 * 町田市 * 版 *\n",
      "Name: 196002, dtype: object\n",
      "-----\n",
      "0.3242695707747051\n",
      "test                     ミコヤンMiG-25、MiG-31,,ミコヤンMiG-25、MiG-31,,ミコヤンMiG-...\n",
      "review_number_to_zero    ミコヤンMiG-0、MiG-0,,ミコヤンMiG-0、MiG-0,,ミコヤンMiG-0、Mi...\n",
      "lsbw                     Mi-CO ヤン * * * * * * * * * * * * * * * * * * *...\n",
      "Name: 396761, dtype: object\n",
      "-----\n",
      "0.3242626811686687\n",
      "test                     夢喰いの夢,chi-co,夢喰いの夢,chi-co,夢喰いの夢,chi-co,夢喰いの夢,c...\n",
      "review_number_to_zero    夢喰いの夢,chi-co,夢喰いの夢,chi-co,夢喰いの夢,chi-co,夢喰いの夢,c...\n",
      "lsbw                     夢 夢 * chi-co * 夢 夢 * chi-co * 夢 夢 * chi-co * 夢...\n",
      "Name: 467373, dtype: object\n",
      "-----\n",
      "-----\n",
      "-----\n",
      "-----\n",
      "-----\n",
      "0.554914602235388\n",
      "test                     シン・ゴジラ GENERATION,,シン・ゴジラ GENERATION,,シン・ゴジラ G...\n",
      "review_number_to_zero    シン・ゴジラ GENERATION,,シン・ゴジラ GENERATION,,シン・ゴジラ G...\n",
      "lsbw                     シン・ゴジラ * * シン・ゴジラ * * シン・ゴジラ * * シン・ゴジラ * * シン...\n",
      "Name: 356180, dtype: object\n",
      "-----\n",
      "0.5537318948778026\n",
      "test                     【輸入楽譜】シン・リジ: シン・リジー ベスト,シン・リジ,【輸入楽譜】シン・リジ: シン・...\n",
      "review_number_to_zero    【輸入楽譜】シン・リジ: シン・リジー ベスト,シン・リジ,【輸入楽譜】シン・リジ: シン・...\n",
      "lsbw                     輸入 楽譜 シン リジ * シン・リジー ベスト * * * 輸入 楽譜 シン リジ * シ...\n",
      "Name: 447893, dtype: object\n",
      "-----\n",
      "0.4817101389845085\n",
      "test                     BIGVOCA advanced,シン ヨンジュン,BIGVOCA advanced,シン ...\n",
      "review_number_to_zero    BIGVOCA advanced,シン ヨンジュン,BIGVOCA advanced,シン ...\n",
      "lsbw                     * * * シン ヨンジュン * * * * シン ヨンジュン * * * * シン ヨンジ...\n",
      "Name: 59624, dtype: object\n",
      "-----\n",
      "-----\n",
      "-----\n",
      "-----\n",
      "-----\n",
      "0.5207796166074817\n",
      "test                     松本人志　愛,松本人志,松本人志　愛,松本人志,松本人志　愛,松本人志,松本人志　愛,松本人...\n",
      "review_number_to_zero    松本人志　愛,松本人志,松本人志　愛,松本人志,松本人志　愛,松本人志,松本人志　愛,松本人...\n",
      "lsbw                     松本人志 愛 * 松本人志 * 松本人志 愛 * 松本人志 * 松本人志 愛 * 松本人志 ...\n",
      "Name: 105429, dtype: object\n",
      "-----\n",
      "0.4768117381353274\n",
      "test                            松本,松本人志,松本,松本人志,松本,松本人志,松本,松本人志,松本,松本人志,,,\n",
      "review_number_to_zero           松本,松本人志,松本,松本人志,松本,松本人志,松本,松本人志,松本,松本人志,,,\n",
      "lsbw                     松本 * 松本人志 * 松本 * 松本人志 * 松本 * 松本人志 * 松本 * 松本人志 ...\n",
      "Name: 105270, dtype: object\n",
      "-----\n",
      "0.4225846854023273\n",
      "test                            遺書,松本人志,遺書,松本人志,遺書,松本人志,遺書,松本人志,遺書,松本人志,,,\n",
      "review_number_to_zero           遺書,松本人志,遺書,松本人志,遺書,松本人志,遺書,松本人志,遺書,松本人志,,,\n",
      "lsbw                     遺書 * 松本人志 * 遺書 * 松本人志 * 遺書 * 松本人志 * 遺書 * 松本人志 ...\n",
      "Name: 104977, dtype: object\n",
      "-----\n",
      "-----\n",
      "-----\n",
      "-----\n",
      "-----\n",
      "0.4277028268203772\n",
      "test                     夢で逢えたら,吉川 トリコ,夢で逢えたら,吉川 トリコ,夢で逢えたら,吉川 トリコ,夢で逢え...\n",
      "review_number_to_zero    夢で逢えたら,吉川 トリコ,夢で逢えたら,吉川 トリコ,夢で逢えたら,吉川 トリコ,夢で逢え...\n",
      "lsbw                     夢で逢えたら * 吉川 トリコ * 夢で逢えたら * 吉川 トリコ * 夢で逢えたら * 吉...\n",
      "Name: 111385, dtype: object\n",
      "-----\n",
      "0.40851617874163504\n",
      "test                     LPV169　夢で逢えたら／ラッツ＆スター,,LPV169　夢で逢えたら／ラッツ＆スター,,...\n",
      "review_number_to_zero    LPV0　夢で逢えたら／ラッツ＆スター,,LPV0　夢で逢えたら／ラッツ＆スター,,LPV0...\n",
      "lsbw                     * * 夢で逢えたら ラッツ&スター * * * 夢で逢えたら ラッツ&スター * * * ...\n",
      "Name: 423221, dtype: object\n",
      "-----\n",
      "0.20111655711643023\n",
      "test                     たてつく二人,三谷幸喜/清水ミチコ,たてつく二人,三谷幸喜/清水ミチコ,たてつく二人,三谷幸...\n",
      "review_number_to_zero    たてつく二人,三谷幸喜/清水ミチコ,たてつく二人,三谷幸喜/清水ミチコ,たてつく二人,三谷幸...\n",
      "lsbw                     二 人 * 三谷幸喜 * 清水ミチコ * 二 人 * 三谷幸喜 * 清水ミチコ * 二 人 ...\n",
      "Name: 458332, dtype: object\n",
      "-----\n",
      "-----\n",
      "-----\n",
      "-----\n",
      "-----\n",
      "0.32167628652520724\n",
      "test                     ミコヤンMiG-25、MiG-31,,ミコヤンMiG-25、MiG-31,,ミコヤンMiG-...\n",
      "review_number_to_zero    ミコヤンMiG-0、MiG-0,,ミコヤンMiG-0、MiG-0,,ミコヤンMiG-0、Mi...\n",
      "lsbw                     Mi-CO ヤン * * * * * * * * * * * * * * * * * * *...\n",
      "Name: 396761, dtype: object\n",
      "-----\n",
      "0.32166945201748537\n",
      "test                     夢喰いの夢,chi-co,夢喰いの夢,chi-co,夢喰いの夢,chi-co,夢喰いの夢,c...\n",
      "review_number_to_zero    夢喰いの夢,chi-co,夢喰いの夢,chi-co,夢喰いの夢,chi-co,夢喰いの夢,c...\n",
      "lsbw                     夢 夢 * chi-co * 夢 夢 * chi-co * 夢 夢 * chi-co * 夢...\n",
      "Name: 467373, dtype: object\n",
      "-----\n",
      "0.28148116349620644\n",
      "test                     王様の甘い謀,chi-co,王様の甘い謀,chi-co,王様の甘い謀,chi-co,王様の甘...\n",
      "review_number_to_zero    王様の甘い謀,chi-co,王様の甘い謀,chi-co,王様の甘い謀,chi-co,王様の甘...\n",
      "lsbw                     王様 謀 * chi-co * 王様 謀 * chi-co * 王様 謀 * chi-co ...\n",
      "Name: 466940, dtype: object\n",
      "-----\n",
      "-----\n",
      "-----\n",
      "-----\n",
      "-----\n",
      "0.7740570047731513\n",
      "test                       松任谷由実,,松任谷由実,,松任谷由実,,松任谷由実,,松任谷由実,,,,\n",
      "review_number_to_zero      松任谷由実,,松任谷由実,,松任谷由実,,松任谷由実,,松任谷由実,,,,\n",
      "lsbw                     松任谷由実 * 松任谷由実 * 松任谷由実 * 松任谷由実 * 松任谷由実 *\n",
      "Name: 415228, dtype: object\n",
      "-----\n",
      "0.6746069084739779\n",
      "test                     LPV171　最後の嘘／松任谷由実,,LPV171　最後の嘘／松任谷由実,,LPV171　最...\n",
      "review_number_to_zero    LPV0　最後の嘘／松任谷由実,,LPV0　最後の嘘／松任谷由実,,LPV0　最後の嘘／松任...\n",
      "lsbw                     * * 最後 嘘 松任谷由実 * * * 最後 嘘 松任谷由実 * * * 最後 嘘 松任谷...\n",
      "Name: 424073, dtype: object\n",
      "-----\n",
      "0.6746069084739779\n",
      "test                     LPV171　最後の嘘／松任谷由実,,LPV171　最後の嘘／松任谷由実,,LPV171　最...\n",
      "review_number_to_zero    LPV0　最後の嘘／松任谷由実,,LPV0　最後の嘘／松任谷由実,,LPV0　最後の嘘／松任...\n",
      "lsbw                     * * 最後 嘘 松任谷由実 * * * 最後 嘘 松任谷由実 * * * 最後 嘘 松任谷...\n",
      "Name: 424073, dtype: object\n",
      "-----\n",
      "-----\n",
      "-----\n",
      "-----\n",
      "-----\n",
      "0.44119267867164363\n",
      "test                     ミコヤンMiG-25、MiG-31,,ミコヤンMiG-25、MiG-31,,ミコヤンMiG-...\n",
      "review_number_to_zero    ミコヤンMiG-0、MiG-0,,ミコヤンMiG-0、MiG-0,,ミコヤンMiG-0、Mi...\n",
      "lsbw                     Mi-CO ヤン * * * * * * * * * * * * * * * * * * *...\n",
      "Name: 396761, dtype: object\n",
      "-----\n",
      "0.44118330485425167\n",
      "test                     夢喰いの夢,chi-co,夢喰いの夢,chi-co,夢喰いの夢,chi-co,夢喰いの夢,c...\n",
      "review_number_to_zero    夢喰いの夢,chi-co,夢喰いの夢,chi-co,夢喰いの夢,chi-co,夢喰いの夢,c...\n",
      "lsbw                     夢 夢 * chi-co * 夢 夢 * chi-co * 夢 夢 * chi-co * 夢...\n",
      "Name: 467373, dtype: object\n",
      "-----\n",
      "0.38606336158624677\n",
      "test                     王様の甘い謀,chi-co,王様の甘い謀,chi-co,王様の甘い謀,chi-co,王様の甘...\n",
      "review_number_to_zero    王様の甘い謀,chi-co,王様の甘い謀,chi-co,王様の甘い謀,chi-co,王様の甘...\n",
      "lsbw                     王様 謀 * chi-co * 王様 謀 * chi-co * 王様 謀 * chi-co ...\n",
      "Name: 466940, dtype: object\n",
      "-----\n",
      "-----\n",
      "-----\n",
      "-----\n"
     ]
    },
    {
     "name": "stdout",
     "output_type": "stream",
     "text": [
      "-----\n",
      "0.5818497105985977\n",
      "test                     綾瀬はるか meets Beautiful Athletes,パナソニック株式会社,綾瀬はる...\n",
      "review_number_to_zero    綾瀬はるか meets Beautiful Athletes,パナソニック株式会社,綾瀬はる...\n",
      "lsbw                     綾瀬はるか * * * * パナソニック * 綾瀬はるか * * * * パナソニック * ...\n",
      "Name: 302864, dtype: object\n",
      "-----\n",
      "0.46526332758166034\n",
      "test                     Document 2015-2018 綾瀬はるかフォトブック,綾瀬　はるか,Document...\n",
      "review_number_to_zero    Document 0-0 綾瀬はるかフォトブック,綾瀬　はるか,Document 0-0 綾...\n",
      "lsbw                     * * * * 綾瀬はるか フォトブック * 綾瀬 はるか * * * * * 綾瀬はるか ...\n",
      "Name: 372852, dtype: object\n",
      "-----\n",
      "0.44505487920963005\n",
      "test                     景気をよくする人気女優綾瀬はるかの成功術,大川隆法,景気をよくする人気女優綾瀬はるかの成功術...\n",
      "review_number_to_zero    景気をよくする人気女優綾瀬はるかの成功術,大川隆法,景気をよくする人気女優綾瀬はるかの成功術...\n",
      "lsbw                     景気 人気 女優 綾瀬はるか 成功 術 * 大川隆法 * 景気 人気 女優 綾瀬はるか 成功...\n",
      "Name: 220714, dtype: object\n",
      "-----\n",
      "-----\n",
      "-----\n",
      "-----\n",
      "-----\n",
      "0.534874662649994\n",
      "test                     焦眉 警視庁強行犯係・樋口顕,今野 敏,焦眉 警視庁強行犯係・樋口顕,今野 敏,焦眉 警視庁...\n",
      "review_number_to_zero    焦眉 警視庁強行犯係・樋口顕,今野 敏,焦眉 警視庁強行犯係・樋口顕,今野 敏,焦眉 警視庁...\n",
      "lsbw                     焦眉 警視庁強行犯係・樋口顕 * 今野 敏 * 焦眉 警視庁強行犯係・樋口顕 * 今野 敏 ...\n",
      "Name: 104545, dtype: object\n",
      "-----\n",
      "0.4034870469578552\n",
      "test                     廉恥,今野敏,廉恥,今野敏,廉恥,今野敏,廉恥,今野敏,廉恥,今野敏,,警視庁強行犯係・樋口...\n",
      "review_number_to_zero    廉恥,今野敏,廉恥,今野敏,廉恥,今野敏,廉恥,今野敏,廉恥,今野敏,,警視庁強行犯係・樋口...\n",
      "lsbw                     廉恥 * 今野敏 * 廉恥 * 今野敏 * 廉恥 * 今野敏 * 廉恥 * 今野敏 * 廉恥...\n",
      "Name: 104242, dtype: object\n",
      "-----\n",
      "0.14437598247864536\n",
      "test                     ミコヤンMiG-25、MiG-31,,ミコヤンMiG-25、MiG-31,,ミコヤンMiG-...\n",
      "review_number_to_zero    ミコヤンMiG-0、MiG-0,,ミコヤンMiG-0、MiG-0,,ミコヤンMiG-0、Mi...\n",
      "lsbw                     Mi-CO ヤン * * * * * * * * * * * * * * * * * * *...\n",
      "Name: 396761, dtype: object\n",
      "-----\n",
      "-----\n",
      "-----\n",
      "-----\n",
      "-----\n",
      "0.5184973664416183\n",
      "test                     FREECELL　vol．35 岡田将生、志尊淳、平手友梨奈『さんかく窓の外側は夜』撮りおろ...\n",
      "review_number_to_zero    FREECELL　vol．0 岡田将生、志尊淳、平手友梨奈『さんかく窓の外側は夜』撮りおろし...\n",
      "lsbw                     * * * 岡田将生 志尊淳 平手友梨奈 さんかく窓の外側は夜 鼎談 表紙 巻頭 * ページ...\n",
      "Name: 305995, dtype: object\n",
      "-----\n",
      "0.48648265210484815\n",
      "test                     岡田将生：未来の破片,岡田将生,岡田将生：未来の破片,岡田将生,岡田将生：未来の破片,岡田将...\n",
      "review_number_to_zero    岡田将生：未来の破片,岡田将生,岡田将生：未来の破片,岡田将生,岡田将生：未来の破片,岡田将...\n",
      "lsbw                     岡田 将生 未来の破片 * 岡田将生 * 岡田将生 未来の破片 * 岡田将生 * 岡田将生 ...\n",
      "Name: 367539, dtype: object\n",
      "-----\n",
      "0.38567126785992656\n",
      "test                     さんかく窓の外側は夜（1）,ヤマシタトモコ,さんかく窓の外側は夜（1）,ヤマシタトモコ,さん...\n",
      "review_number_to_zero    さんかく窓の外側は夜（0）,ヤマシタトモコ,さんかく窓の外側は夜（0）,ヤマシタトモコ,さん...\n",
      "lsbw                     さんかく窓の外側は夜 * * ヤマシタトモコ * さんかく窓の外側は夜 * * ヤマシタトモ...\n",
      "Name: 51588, dtype: object\n",
      "-----\n",
      "-----\n",
      "-----\n",
      "-----\n",
      "-----\n",
      "0.25984303790290864\n",
      "test                     Zoom in 藤ヶ谷太輔　2,ジャニーズ研究会,Zoom in 藤ヶ谷太輔　2,ジャニーズ...\n",
      "review_number_to_zero    Zoom in 藤ヶ谷太輔　0,ジャニーズ研究会,Zoom in 藤ヶ谷太輔　0,ジャニーズ...\n",
      "lsbw                     Zoom * 藤ヶ谷太輔 * * Johnny's 研究会 * Zoom * 藤ヶ谷太輔 *...\n",
      "Name: 363605, dtype: object\n",
      "-----\n",
      "0.2579906902181825\n",
      "test                     ミコヤンMiG-25、MiG-31,,ミコヤンMiG-25、MiG-31,,ミコヤンMiG-...\n",
      "review_number_to_zero    ミコヤンMiG-0、MiG-0,,ミコヤンMiG-0、MiG-0,,ミコヤンMiG-0、Mi...\n",
      "lsbw                     Mi-CO ヤン * * * * * * * * * * * * * * * * * * *...\n",
      "Name: 396761, dtype: object\n",
      "-----\n",
      "0.25798520880895737\n",
      "test                     夢喰いの夢,chi-co,夢喰いの夢,chi-co,夢喰いの夢,chi-co,夢喰いの夢,c...\n",
      "review_number_to_zero    夢喰いの夢,chi-co,夢喰いの夢,chi-co,夢喰いの夢,chi-co,夢喰いの夢,c...\n",
      "lsbw                     夢 夢 * chi-co * 夢 夢 * chi-co * 夢 夢 * chi-co * 夢...\n",
      "Name: 467373, dtype: object\n",
      "-----\n",
      "-----\n",
      "-----\n",
      "-----\n"
     ]
    }
   ],
   "source": [
    "# トレンドに関連した商品を抽出\n",
    "for u in test_item:\n",
    "    similarity = cosine_similarity(u, X)\n",
    "    aaa = similarity[0].tolist()\n",
    "    print('-----')\n",
    "    for v in range(-1,-4,-1):\n",
    "        max_value = sorted(aaa)[v]\n",
    "        max_index = aaa.index(max_value)\n",
    "        print(max_value)\n",
    "        print(df3.iloc[max_index, :])\n",
    "        print('-----')\n",
    "    print('-----')\n",
    "    print('-----')\n",
    "    print('-----')\n",
    "    base = base + 1"
   ]
  },
  {
   "cell_type": "code",
   "execution_count": null,
   "metadata": {},
   "outputs": [],
   "source": []
  },
  {
   "cell_type": "code",
   "execution_count": null,
   "metadata": {},
   "outputs": [],
   "source": []
  }
 ],
 "metadata": {
  "kernelspec": {
   "display_name": "Python 3",
   "language": "python",
   "name": "python3"
  },
  "language_info": {
   "codemirror_mode": {
    "name": "ipython",
    "version": 3
   },
   "file_extension": ".py",
   "mimetype": "text/x-python",
   "name": "python",
   "nbconvert_exporter": "python",
   "pygments_lexer": "ipython3",
   "version": "3.9.1"
  }
 },
 "nbformat": 4,
 "nbformat_minor": 2
}
